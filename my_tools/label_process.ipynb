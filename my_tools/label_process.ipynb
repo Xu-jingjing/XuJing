{
 "cells": [
  {
   "cell_type": "code",
   "execution_count": 9,
   "metadata": {},
   "outputs": [],
   "source": [
    "import sys\n",
    "import os, h5py, cv2, sys, shutil\n",
    "import numpy as np\n",
    "import pdb\n",
    "import matplotlib.pyplot as plt\n",
    "%matplotlib inline"
   ]
  },
  {
   "cell_type": "code",
   "execution_count": 10,
   "metadata": {},
   "outputs": [],
   "source": [
    "imgdir = '/home/mini/SVN/SSD_WiderFaceDetection/Data/WiderFace/Val'\n",
    "filepath = 'Label.txt'\n",
    "imagesdir = \"JPEGImages_20\"\n",
    "if not os.path.exists(imagesdir):\n",
    "    os.mkdir(imagesdir)\n",
    "if not os.path.exists(imagesdir + \"/Image\"):\n",
    "    os.mkdir(imagesdir + \"/Image\")\n",
    "minsize2select = 20\n",
    "index = 0"
   ]
  },
  {
   "cell_type": "code",
   "execution_count": 11,
   "metadata": {},
   "outputs": [],
   "source": [
    "def iter_4(lst):\n",
    "    it=iter(lst)\n",
    "    while True:\n",
    "        yield next(it), next(it),next(it),next(it)"
   ]
  },
  {
   "cell_type": "code",
   "execution_count": 24,
   "metadata": {},
   "outputs": [],
   "source": [
    "with open (filepath, 'r') as gtfile:\n",
    "    for line in gtfile.readlines():\n",
    "        line_info=line.split()\n",
    "        line_dct ={}\n",
    "        #print(line_info)\n",
    "        line_dct['name']=line_info[0]\n",
    "        line_dct['boxes']=[]\n",
    "        ftxt = open('label_min.txt','a')\n",
    "        for x1, y1,x2,y2 in iter_4(line_info[1:]):\n",
    "            if (int(y2)-int(y1)>minsize2select) and (int(x2)-int(x1)>minsize2select):\n",
    "                line_dct['boxes'].append(x1)\n",
    "                line_dct['boxes'].append(y1)\n",
    "                line_dct['boxes'].append(x2)\n",
    "                line_dct['boxes'].append(y2)\n",
    "        line = line_dct['name']+' '+('{} '*len(line_dct['boxes'])).format(*line_dct['boxes'])+'\\n'\n",
    "        #print(line_dct['name']+' '+('{} '*len(line_dct['boxes'])).format(*line_dct['boxes']))\n",
    "    ftxt.close()"
   ]
  },
  {
   "cell_type": "markdown",
   "metadata": {},
   "source": [
    "### 图片和Label处理"
   ]
  },
  {
   "cell_type": "code",
   "execution_count": 12,
   "metadata": {},
   "outputs": [],
   "source": [
    "#def convertimgset(img_set=\"Val\"):\n",
    "with open(filepath, 'r') as gtfile:\n",
    "    for line in gtfile.readlines(): # and len(faces)<10\n",
    "        filename = line.split()[0]\n",
    "        imgpath = imgdir + \"/\" + filename\n",
    "        img = cv2.imread(imgpath)\n",
    "        if not img.data:\n",
    "            break;\n",
    "        saveimg = img.copy()\n",
    "        showimg = saveimg.copy()\n",
    "        bboxes = {}\n",
    "        bboxes['name']= filename\n",
    "        bboxes['boxes']=[]\n",
    "        ftxt = open('label_new_20.txt','a')\n",
    "        for x, y,x2,y2 in iter_4(line.split()[1:]):\n",
    "            if ((int(y2)-int(y)) > minsize2select) and ((int(x2)-int(x))> minsize2select):\n",
    "                bboxes['boxes'].append(x)\n",
    "                bboxes['boxes'].append(y)\n",
    "                bboxes['boxes'].append(x2)\n",
    "                bboxes['boxes'].append(y2)\n",
    "                #pdb.set_trace()\n",
    "                #cv2.rectangle(showimg, (int(x),int(y)), (int(x2), int(y2)), (0, 255, 0))\n",
    "                #plt.imshow(showimg)\n",
    "            else:\n",
    "                saveimg[int(y):int(y2), int(x):int(x2), :] = (104,117,123)\n",
    "                #cv2.rectangle(showimg, (int(x),int(y)), (int(x2), int(y2)), (0, 0, 255))\n",
    "        line = bboxes['name']+' '+('{} '*len(bboxes['boxes'])).format(*bboxes['boxes'])\n",
    "        ftxt.write(line + '\\n')\n",
    "        #pdb.set_trace()\n",
    "        cv2.imwrite(imagesdir + \"/\" + filename, saveimg)\n",
    "        # generate filelist\n",
    "        \n",
    "    ftxt.close()"
   ]
  },
  {
   "cell_type": "markdown",
   "metadata": {},
   "source": [
    "### 不属于上面部分，一点小尝试，借地一用"
   ]
  },
  {
   "cell_type": "code",
   "execution_count": 22,
   "metadata": {},
   "outputs": [],
   "source": [
    "x = np.array([[[1],[2],[3]], [[4],[5],[6]]])"
   ]
  },
  {
   "cell_type": "code",
   "execution_count": 26,
   "metadata": {},
   "outputs": [
    {
     "data": {
      "text/plain": [
       "(2, 3, 1)"
      ]
     },
     "execution_count": 26,
     "metadata": {},
     "output_type": "execute_result"
    }
   ],
   "source": [
    "x.shape"
   ]
  },
  {
   "cell_type": "code",
   "execution_count": 30,
   "metadata": {},
   "outputs": [
    {
     "data": {
      "text/plain": [
       "array([[1, 2, 3],\n",
       "       [4, 5, 6]])"
      ]
     },
     "execution_count": 30,
     "metadata": {},
     "output_type": "execute_result"
    }
   ],
   "source": [
    "x[...,0]"
   ]
  },
  {
   "cell_type": "code",
   "execution_count": 31,
   "metadata": {},
   "outputs": [
    {
     "data": {
      "text/plain": [
       "array([[1, 2, 3],\n",
       "       [4, 5, 6]])"
      ]
     },
     "execution_count": 31,
     "metadata": {},
     "output_type": "execute_result"
    }
   ],
   "source": [
    "x[:,:,0]"
   ]
  },
  {
   "cell_type": "code",
   "execution_count": null,
   "metadata": {},
   "outputs": [],
   "source": []
  }
 ],
 "metadata": {
  "kernelspec": {
   "display_name": "Python 3",
   "language": "python",
   "name": "python3"
  },
  "language_info": {
   "codemirror_mode": {
    "name": "ipython",
    "version": 3
   },
   "file_extension": ".py",
   "mimetype": "text/x-python",
   "name": "python",
   "nbconvert_exporter": "python",
   "pygments_lexer": "ipython3",
   "version": "3.5.2"
  }
 },
 "nbformat": 4,
 "nbformat_minor": 2
}
